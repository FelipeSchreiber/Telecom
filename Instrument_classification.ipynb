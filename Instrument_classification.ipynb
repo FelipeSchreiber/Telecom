{
 "cells": [
  {
   "cell_type": "code",
   "execution_count": 1,
   "metadata": {},
   "outputs": [],
   "source": [
    "from librosa.core import load as ld_wav\n",
    "import librosa.feature as ft_extraction\n",
    "import scipy.io.wavfile as wav\n",
    "import numpy as np\n",
    "import os"
   ]
  },
  {
   "cell_type": "code",
   "execution_count": 2,
   "metadata": {},
   "outputs": [],
   "source": [
    "# directory where we your .wav files are\n",
    "directoryName = \"/home/felipe/UFRJ/Telecomunicações/IRMAS-TrainingData\" # put your own directory here\n",
    "#instruments to evaluate\n",
    "instruments = [\"pia\",\"vio\"]\n",
    "# directory to put our results in, you can change the name if you like\n",
    "resultsDirectory = directoryName + \"/MFCCresults\"\n"
   ]
  },
  {
   "cell_type": "code",
   "execution_count": 3,
   "metadata": {},
   "outputs": [],
   "source": [
    "def countTrainTracks(input_path, labels):\n",
    "\t\t\"\"\" Counts the number of tracks in the folders of the trainset\n",
    "\t\t\"\"\"\n",
    "\t\ttotal = 0\n",
    "\t\tfor l, label in enumerate(labels):\n",
    "\t\t\tinstrument_dir = os.path.join(input_path, label)\n",
    "\t\t\ttotal += len(os.listdir(instrument_dir))\n",
    "\n",
    "\t\treturn total"
   ]
  },
  {
   "cell_type": "code",
   "execution_count": 4,
   "metadata": {},
   "outputs": [],
   "source": [
    "if not os.path.exists(resultsDirectory):\n",
    "    os.makedirs(resultsDirectory)"
   ]
  },
  {
   "cell_type": "code",
   "execution_count": 5,
   "metadata": {},
   "outputs": [
    {
     "name": "stdout",
     "output_type": "stream",
     "text": [
      "Total tracks:  1301\n"
     ]
    }
   ],
   "source": [
    "total_tracks = countTrainTracks(directoryName,instruments)\n",
    "print(\"Total tracks: \",total_tracks)"
   ]
  },
  {
   "cell_type": "code",
   "execution_count": 6,
   "metadata": {},
   "outputs": [],
   "source": [
    "data_dict = dict()\n",
    "\n",
    "data_dict[\"rolloff\"] = np.empty(130*total_tracks)\n",
    "data_dict[\"bandwidth\"] = np.empty(130*total_tracks)\n",
    "data_dict[\"centroids\"] = np.empty(130*total_tracks)\n",
    "data_dict[\"zero_crossing_rate\"] = np.empty(130*total_tracks)\n",
    "data_dict[\"rms\"] = np.empty(130*total_tracks)\n",
    "data_dict[\"mfcc0\"] = np.empty(130*total_tracks)\n",
    "data_dict[\"mfcc1\"] = np.empty(130*total_tracks)\n",
    "data_dict[\"mfcc2\"] = np.empty(130*total_tracks)\n",
    "data_dict[\"mfcc3\"] = np.empty(130*total_tracks)\n",
    "data_dict[\"mfcc4\"] = np.empty(130*total_tracks)\n",
    "data_dict[\"mfcc5\"] = np.empty(130*total_tracks)\n",
    "data_dict[\"mfcc6\"] = np.empty(130*total_tracks)\n",
    "data_dict[\"mfcc7\"] = np.empty(130*total_tracks)\n",
    "data_dict[\"mfcc8\"] = np.empty(130*total_tracks)\n",
    "data_dict[\"mfcc9\"] = np.empty(130*total_tracks)\n",
    "data_dict[\"mfcc10\"] = np.empty(130*total_tracks)\n",
    "data_dict[\"mfcc11\"] = np.empty(130*total_tracks)\n",
    "data_dict[\"mfcc12\"] = np.empty(130*total_tracks)\n",
    "data_dict[\"mfcc13\"] = np.empty(130*total_tracks)\n",
    "data_dict[\"mfcc14\"] = np.empty(130*total_tracks)\n",
    "data_dict[\"mfcc15\"] = np.empty(130*total_tracks)\n",
    "data_dict[\"mfcc16\"] = np.empty(130*total_tracks)\n",
    "data_dict[\"mfcc17\"] = np.empty(130*total_tracks)\n",
    "data_dict[\"mfcc18\"] = np.empty(130*total_tracks)\n",
    "data_dict[\"mfcc19\"] = np.empty(130*total_tracks)\n",
    "data_dict[\"instrument\"] = np.empty(130*total_tracks,dtype=int)"
   ]
  },
  {
   "cell_type": "code",
   "execution_count": 7,
   "metadata": {},
   "outputs": [],
   "source": [
    "def getDeltaFeat(column):\n",
    "    original_len = len(column)\n",
    "    shifted_right_column = np.r_[np.zeros(2),np.asarray(column)]\n",
    "    shifted_left_column = np.r_[np.asarray(column),np.zeros(2)]\n",
    "    deltas = list()\n",
    "    for i in range(0,original_len):\n",
    "        deltas.append(shifted_left_column[i + 2] - shifted_right_column[i])\n",
    "    return np.asarray(deltas)"
   ]
  },
  {
   "cell_type": "code",
   "execution_count": 8,
   "metadata": {},
   "outputs": [],
   "source": [
    "def includeDeltaFeat(df):\n",
    "    for i in range(0,20):\n",
    "        df[\"delta_mfcc\"+str(i)]=getDeltaFeat(df[\"mfcc\"+str(i)])\n",
    "    return df"
   ]
  },
  {
   "cell_type": "code",
   "execution_count": 9,
   "metadata": {},
   "outputs": [],
   "source": [
    "def getData(directoryName,instruments,data_dict):\n",
    "    instrument_index = 0\n",
    "    files_read = 0\n",
    "    for instrument in instruments:\n",
    "        for filename in os.listdir(directoryName+\"/\"+instrument):\n",
    "            if filename.endswith('.wav'): # only get MFCCs from .wavs\n",
    "                # read in our file\n",
    "                (sig,rate) = ld_wav(directoryName +\"/\"+instrument+\"/\" +filename)\n",
    "                #print(\"Signal len = \",len(sig),\"\\nRate = \",rate)\n",
    "                # get mfcc\n",
    "                mfcc_feat = ft_extraction.mfcc(y=sig,sr=rate)\n",
    "                rolloff_feat = ft_extraction.spectral_rolloff(y=sig,sr=rate)\n",
    "                bandwidth_feat = ft_extraction.spectral_bandwidth(y=sig,sr=rate)\n",
    "                centroid_feat = ft_extraction.spectral_centroid(y=sig,sr=rate)\n",
    "                zero_crossing_rate_feat = ft_extraction.zero_crossing_rate(y=sig)\n",
    "                rms_feat = ft_extraction.rms(y=sig)\n",
    "                for i in range(0,20):\n",
    "                    data_dict[\"mfcc\"+str(i)][files_read*130:(files_read+1)*130] = mfcc_feat[i]\n",
    "                data_dict[\"rolloff\"][files_read*130:(files_read+1)*130] = rolloff_feat[0]\n",
    "                data_dict[\"bandwidth\"][files_read*130:(files_read+1)*130] = bandwidth_feat[0]\n",
    "                data_dict[\"centroids\"][files_read*130:(files_read+1)*130] = centroid_feat[0]\n",
    "                data_dict[\"zero_crossing_rate\"][files_read*130:(files_read+1)*130] = zero_crossing_rate_feat[0]\n",
    "                data_dict[\"rms\"][files_read*130:(files_read+1)*130] = rms_feat[0]\n",
    "                data_dict[\"instrument\"][files_read*130:(files_read+1)*130] = [instrument_index]*130\n",
    "                #rolloff = ft_extraction.spectral_rolloff(y=sig,sr=rate)\n",
    "                # create a file to save our results in\n",
    "                files_read += 1\n",
    "        instrument_index += 1\n",
    "    #data_dict = includeDeltaFeat(data_dict)\n",
    "    return data_dict                                                                                           "
   ]
  },
  {
   "cell_type": "code",
   "execution_count": 10,
   "metadata": {},
   "outputs": [],
   "source": [
    "data_dict = getData(directoryName,instruments,data_dict)"
   ]
  },
  {
   "cell_type": "code",
   "execution_count": 11,
   "metadata": {},
   "outputs": [
    {
     "data": {
      "text/plain": [
       "169130"
      ]
     },
     "execution_count": 11,
     "metadata": {},
     "output_type": "execute_result"
    }
   ],
   "source": [
    "np.count_nonzero(~np.isnan(data_dict[\"mfcc0\"]))"
   ]
  },
  {
   "cell_type": "code",
   "execution_count": 12,
   "metadata": {},
   "outputs": [
    {
     "name": "stdout",
     "output_type": "stream",
     "text": [
      "169130\n"
     ]
    }
   ],
   "source": [
    "print(1301*130)"
   ]
  },
  {
   "cell_type": "code",
   "execution_count": 13,
   "metadata": {},
   "outputs": [
    {
     "data": {
      "text/html": [
       "<div>\n",
       "<style scoped>\n",
       "    .dataframe tbody tr th:only-of-type {\n",
       "        vertical-align: middle;\n",
       "    }\n",
       "\n",
       "    .dataframe tbody tr th {\n",
       "        vertical-align: top;\n",
       "    }\n",
       "\n",
       "    .dataframe thead th {\n",
       "        text-align: right;\n",
       "    }\n",
       "</style>\n",
       "<table border=\"1\" class=\"dataframe\">\n",
       "  <thead>\n",
       "    <tr style=\"text-align: right;\">\n",
       "      <th></th>\n",
       "      <th>rolloff</th>\n",
       "      <th>bandwidth</th>\n",
       "      <th>centroids</th>\n",
       "      <th>zero_crossing_rate</th>\n",
       "      <th>rms</th>\n",
       "      <th>mfcc0</th>\n",
       "      <th>mfcc1</th>\n",
       "      <th>mfcc2</th>\n",
       "      <th>mfcc3</th>\n",
       "      <th>mfcc4</th>\n",
       "      <th>...</th>\n",
       "      <th>mfcc11</th>\n",
       "      <th>mfcc12</th>\n",
       "      <th>mfcc13</th>\n",
       "      <th>mfcc14</th>\n",
       "      <th>mfcc15</th>\n",
       "      <th>mfcc16</th>\n",
       "      <th>mfcc17</th>\n",
       "      <th>mfcc18</th>\n",
       "      <th>mfcc19</th>\n",
       "      <th>instrument</th>\n",
       "    </tr>\n",
       "  </thead>\n",
       "  <tbody>\n",
       "    <tr>\n",
       "      <th>169125</th>\n",
       "      <td>3929.809570</td>\n",
       "      <td>2038.286482</td>\n",
       "      <td>1726.468614</td>\n",
       "      <td>0.083984</td>\n",
       "      <td>0.062677</td>\n",
       "      <td>-227.990265</td>\n",
       "      <td>113.424232</td>\n",
       "      <td>-9.408860</td>\n",
       "      <td>43.264915</td>\n",
       "      <td>6.509571</td>\n",
       "      <td>...</td>\n",
       "      <td>4.518134</td>\n",
       "      <td>1.368757</td>\n",
       "      <td>12.995491</td>\n",
       "      <td>1.665058</td>\n",
       "      <td>11.115401</td>\n",
       "      <td>9.659019</td>\n",
       "      <td>-5.013555</td>\n",
       "      <td>0.967955</td>\n",
       "      <td>12.440106</td>\n",
       "      <td>1</td>\n",
       "    </tr>\n",
       "    <tr>\n",
       "      <th>169126</th>\n",
       "      <td>3789.843750</td>\n",
       "      <td>2019.264734</td>\n",
       "      <td>1730.235788</td>\n",
       "      <td>0.089355</td>\n",
       "      <td>0.066654</td>\n",
       "      <td>-226.093658</td>\n",
       "      <td>115.267258</td>\n",
       "      <td>-5.649810</td>\n",
       "      <td>45.312061</td>\n",
       "      <td>7.882730</td>\n",
       "      <td>...</td>\n",
       "      <td>10.353981</td>\n",
       "      <td>5.884489</td>\n",
       "      <td>8.536335</td>\n",
       "      <td>-0.780042</td>\n",
       "      <td>8.331919</td>\n",
       "      <td>7.718971</td>\n",
       "      <td>-7.243509</td>\n",
       "      <td>-1.161903</td>\n",
       "      <td>14.580173</td>\n",
       "      <td>1</td>\n",
       "    </tr>\n",
       "    <tr>\n",
       "      <th>169127</th>\n",
       "      <td>3563.745117</td>\n",
       "      <td>1931.438542</td>\n",
       "      <td>1689.990517</td>\n",
       "      <td>0.084473</td>\n",
       "      <td>0.070886</td>\n",
       "      <td>-226.310822</td>\n",
       "      <td>120.728256</td>\n",
       "      <td>-7.477173</td>\n",
       "      <td>46.441296</td>\n",
       "      <td>2.592531</td>\n",
       "      <td>...</td>\n",
       "      <td>10.906251</td>\n",
       "      <td>9.407770</td>\n",
       "      <td>11.517885</td>\n",
       "      <td>-2.472063</td>\n",
       "      <td>8.018284</td>\n",
       "      <td>4.658303</td>\n",
       "      <td>-5.756626</td>\n",
       "      <td>-3.968502</td>\n",
       "      <td>17.268650</td>\n",
       "      <td>1</td>\n",
       "    </tr>\n",
       "    <tr>\n",
       "      <th>169128</th>\n",
       "      <td>3176.147461</td>\n",
       "      <td>1986.839598</td>\n",
       "      <td>1587.260859</td>\n",
       "      <td>0.062012</td>\n",
       "      <td>0.072590</td>\n",
       "      <td>-218.313004</td>\n",
       "      <td>122.024727</td>\n",
       "      <td>0.392308</td>\n",
       "      <td>38.631321</td>\n",
       "      <td>6.205506</td>\n",
       "      <td>...</td>\n",
       "      <td>1.361669</td>\n",
       "      <td>11.484800</td>\n",
       "      <td>13.205139</td>\n",
       "      <td>1.215893</td>\n",
       "      <td>8.228657</td>\n",
       "      <td>9.125845</td>\n",
       "      <td>-7.830932</td>\n",
       "      <td>-4.033907</td>\n",
       "      <td>8.283660</td>\n",
       "      <td>1</td>\n",
       "    </tr>\n",
       "    <tr>\n",
       "      <th>169129</th>\n",
       "      <td>3940.576172</td>\n",
       "      <td>2317.915459</td>\n",
       "      <td>1623.505099</td>\n",
       "      <td>0.041016</td>\n",
       "      <td>0.075656</td>\n",
       "      <td>-208.403320</td>\n",
       "      <td>113.934624</td>\n",
       "      <td>14.969280</td>\n",
       "      <td>30.570921</td>\n",
       "      <td>12.068377</td>\n",
       "      <td>...</td>\n",
       "      <td>-1.431349</td>\n",
       "      <td>7.468777</td>\n",
       "      <td>10.532847</td>\n",
       "      <td>5.981077</td>\n",
       "      <td>6.776804</td>\n",
       "      <td>9.659662</td>\n",
       "      <td>-4.804807</td>\n",
       "      <td>0.990948</td>\n",
       "      <td>4.017467</td>\n",
       "      <td>1</td>\n",
       "    </tr>\n",
       "  </tbody>\n",
       "</table>\n",
       "<p>5 rows × 26 columns</p>\n",
       "</div>"
      ],
      "text/plain": [
       "            rolloff    bandwidth    centroids  zero_crossing_rate       rms  \\\n",
       "169125  3929.809570  2038.286482  1726.468614            0.083984  0.062677   \n",
       "169126  3789.843750  2019.264734  1730.235788            0.089355  0.066654   \n",
       "169127  3563.745117  1931.438542  1689.990517            0.084473  0.070886   \n",
       "169128  3176.147461  1986.839598  1587.260859            0.062012  0.072590   \n",
       "169129  3940.576172  2317.915459  1623.505099            0.041016  0.075656   \n",
       "\n",
       "             mfcc0       mfcc1      mfcc2      mfcc3      mfcc4  ...  \\\n",
       "169125 -227.990265  113.424232  -9.408860  43.264915   6.509571  ...   \n",
       "169126 -226.093658  115.267258  -5.649810  45.312061   7.882730  ...   \n",
       "169127 -226.310822  120.728256  -7.477173  46.441296   2.592531  ...   \n",
       "169128 -218.313004  122.024727   0.392308  38.631321   6.205506  ...   \n",
       "169129 -208.403320  113.934624  14.969280  30.570921  12.068377  ...   \n",
       "\n",
       "           mfcc11     mfcc12     mfcc13    mfcc14     mfcc15    mfcc16  \\\n",
       "169125   4.518134   1.368757  12.995491  1.665058  11.115401  9.659019   \n",
       "169126  10.353981   5.884489   8.536335 -0.780042   8.331919  7.718971   \n",
       "169127  10.906251   9.407770  11.517885 -2.472063   8.018284  4.658303   \n",
       "169128   1.361669  11.484800  13.205139  1.215893   8.228657  9.125845   \n",
       "169129  -1.431349   7.468777  10.532847  5.981077   6.776804  9.659662   \n",
       "\n",
       "          mfcc17    mfcc18     mfcc19  instrument  \n",
       "169125 -5.013555  0.967955  12.440106           1  \n",
       "169126 -7.243509 -1.161903  14.580173           1  \n",
       "169127 -5.756626 -3.968502  17.268650           1  \n",
       "169128 -7.830932 -4.033907   8.283660           1  \n",
       "169129 -4.804807  0.990948   4.017467           1  \n",
       "\n",
       "[5 rows x 26 columns]"
      ]
     },
     "execution_count": 13,
     "metadata": {},
     "output_type": "execute_result"
    }
   ],
   "source": [
    "import pandas as pd\n",
    "df = pd.DataFrame(data_dict)\n",
    "df.tail()"
   ]
  },
  {
   "cell_type": "code",
   "execution_count": 14,
   "metadata": {},
   "outputs": [
    {
     "name": "stdout",
     "output_type": "stream",
     "text": [
      "['rolloff', 'bandwidth', 'centroids', 'zero_crossing_rate', 'rms', 'mfcc0', 'mfcc1', 'mfcc2', 'mfcc3', 'mfcc4', 'mfcc5', 'mfcc6', 'mfcc7', 'mfcc8', 'mfcc9', 'mfcc10', 'mfcc11', 'mfcc12', 'mfcc13', 'mfcc14', 'mfcc15', 'mfcc16', 'mfcc17', 'mfcc18', 'mfcc19']\n"
     ]
    }
   ],
   "source": [
    "input_variables = list(df.columns)\n",
    "input_variables.remove(\"instrument\")\n",
    "output_variable = \"instrument\"\n",
    "print(input_variables)"
   ]
  },
  {
   "cell_type": "code",
   "execution_count": 15,
   "metadata": {},
   "outputs": [
    {
     "name": "stdout",
     "output_type": "stream",
     "text": [
      "['pia' 'vio']\n"
     ]
    }
   ],
   "source": [
    "from sklearn import preprocessing\n",
    "le = preprocessing.LabelEncoder()\n",
    "le.fit(instruments)\n",
    "print(le.inverse_transform([0,1]))"
   ]
  },
  {
   "cell_type": "code",
   "execution_count": 16,
   "metadata": {},
   "outputs": [
    {
     "data": {
      "text/plain": [
       "(169130, 25)"
      ]
     },
     "execution_count": 16,
     "metadata": {},
     "output_type": "execute_result"
    }
   ],
   "source": [
    "np.asarray(df[input_variables]).shape"
   ]
  },
  {
   "cell_type": "code",
   "execution_count": 17,
   "metadata": {},
   "outputs": [],
   "source": [
    "from sklearn.ensemble import RandomForestClassifier\n",
    "from sklearn.model_selection import train_test_split\n",
    "X_train, X_test, y_train, y_test = train_test_split(df[input_variables], df[output_variable], test_size=0.33, random_state=42)\n",
    "rfc = RandomForestClassifier(n_estimators=100, random_state=0)\n",
    "rfc.fit(X_train, y_train)\n",
    "y_predict = rfc.predict(X_test)"
   ]
  },
  {
   "cell_type": "code",
   "execution_count": 18,
   "metadata": {},
   "outputs": [
    {
     "name": "stdout",
     "output_type": "stream",
     "text": [
      "[[29070  1811]\n",
      " [ 2231 22701]]\n",
      "              precision    recall  f1-score   support\n",
      "\n",
      "         pia      0.929     0.941     0.935     30881\n",
      "         vio      0.926     0.911     0.918     24932\n",
      "\n",
      "   micro avg      0.928     0.928     0.928     55813\n",
      "   macro avg      0.927     0.926     0.927     55813\n",
      "weighted avg      0.928     0.928     0.928     55813\n",
      "\n"
     ]
    }
   ],
   "source": [
    "from sklearn import metrics\n",
    "print(metrics.confusion_matrix(le.inverse_transform(y_test),le.inverse_transform(y_predict)))\n",
    "print(metrics.classification_report(le.inverse_transform(y_test),le.inverse_transform(y_predict),digits=3))"
   ]
  },
  {
   "cell_type": "code",
   "execution_count": null,
   "metadata": {},
   "outputs": [],
   "source": []
  },
  {
   "cell_type": "code",
   "execution_count": 19,
   "metadata": {},
   "outputs": [
    {
     "name": "stdout",
     "output_type": "stream",
     "text": [
      "[0. 0. 0. ... 0. 0. 0.]\n"
     ]
    }
   ],
   "source": [
    "fur_elise_data_dict = dict()\n",
    "fur_elise_data_dict[\"rolloff\"] = list()\n",
    "fur_elise_data_dict[\"bandwidth\"] = list()\n",
    "fur_elise_data_dict[\"centroids\"] = list()\n",
    "fur_elise_data_dict[\"zero_crossing_rate\"] = list()\n",
    "fur_elise_data_dict[\"rms\"] = list()\n",
    "fur_elise_data_dict[\"mfcc0\"] = list()\n",
    "fur_elise_data_dict[\"mfcc1\"] = list()\n",
    "fur_elise_data_dict[\"mfcc2\"] = list()\n",
    "fur_elise_data_dict[\"mfcc3\"] = list()\n",
    "fur_elise_data_dict[\"mfcc4\"] = list()\n",
    "fur_elise_data_dict[\"mfcc5\"] = list()\n",
    "fur_elise_data_dict[\"mfcc6\"] = list()\n",
    "fur_elise_data_dict[\"mfcc7\"] = list()\n",
    "fur_elise_data_dict[\"mfcc8\"] = list()\n",
    "fur_elise_data_dict[\"mfcc9\"] = list()\n",
    "fur_elise_data_dict[\"mfcc10\"] = list()\n",
    "fur_elise_data_dict[\"mfcc11\"] = list()\n",
    "fur_elise_data_dict[\"mfcc12\"] = list()\n",
    "fur_elise_data_dict[\"mfcc13\"] = list()\n",
    "fur_elise_data_dict[\"mfcc14\"] = list()\n",
    "fur_elise_data_dict[\"mfcc15\"] = list()\n",
    "fur_elise_data_dict[\"mfcc16\"] = list()\n",
    "fur_elise_data_dict[\"mfcc17\"] = list()\n",
    "fur_elise_data_dict[\"mfcc18\"] = list()\n",
    "fur_elise_data_dict[\"mfcc19\"] = list()\n",
    "fur_elise_data_dict[\"instrument\"] = list()\n",
    "(sig,rate) = ld_wav(\"/home/felipe/Music/Link to Musicas/Für Elise (Piano version).wav\")\n",
    "mfcc_feat = ft_extraction.mfcc(y=sig,sr=rate)\n",
    "rolloff_feat = ft_extraction.spectral_rolloff(y=sig,sr=rate)\n",
    "print(rolloff_feat[0])\n",
    "bandwidth_feat = ft_extraction.spectral_bandwidth(y=sig,sr=rate)\n",
    "centroid_feat = ft_extraction.spectral_centroid(y=sig,sr=rate)\n",
    "zero_crossing_rate_feat = ft_extraction.zero_crossing_rate(y=sig)\n",
    "rms_feat = ft_extraction.rms(y=sig)\n",
    "for i in range(0,20):\n",
    "    fur_elise_data_dict[\"mfcc\"+str(i)].extend(mfcc_feat[i])\n",
    "fur_elise_data_dict[\"instrument\"] = [\"pia\"]*len(fur_elise_data_dict[\"mfcc0\"])\n",
    "fur_elise_data_dict[\"rolloff\"].extend(rolloff_feat[0])\n",
    "fur_elise_data_dict[\"bandwidth\"].extend(bandwidth_feat[0])\n",
    "fur_elise_data_dict[\"centroids\"].extend(centroid_feat[0])\n",
    "fur_elise_data_dict[\"zero_crossing_rate\"].extend(zero_crossing_rate_feat[0])\n",
    "fur_elise_data_dict[\"rms\"].extend(rms_feat[0])\n",
    "#fur_elise_data_dict = includeDeltaFeat(fur_elise_data_dict)"
   ]
  },
  {
   "cell_type": "code",
   "execution_count": 20,
   "metadata": {},
   "outputs": [
    {
     "name": "stdout",
     "output_type": "stream",
     "text": [
      "rolloff 7545\n",
      "bandwidth 7545\n",
      "centroids 7545\n",
      "zero_crossing_rate 7545\n",
      "rms 7545\n",
      "mfcc0 7545\n",
      "mfcc1 7545\n",
      "mfcc2 7545\n",
      "mfcc3 7545\n",
      "mfcc4 7545\n",
      "mfcc5 7545\n",
      "mfcc6 7545\n",
      "mfcc7 7545\n",
      "mfcc8 7545\n",
      "mfcc9 7545\n",
      "mfcc10 7545\n",
      "mfcc11 7545\n",
      "mfcc12 7545\n",
      "mfcc13 7545\n",
      "mfcc14 7545\n",
      "mfcc15 7545\n",
      "mfcc16 7545\n",
      "mfcc17 7545\n",
      "mfcc18 7545\n",
      "mfcc19 7545\n",
      "instrument 7545\n"
     ]
    }
   ],
   "source": [
    "for key in fur_elise_data_dict.keys():\n",
    "    print(key,len(fur_elise_data_dict[key]))"
   ]
  },
  {
   "cell_type": "code",
   "execution_count": 21,
   "metadata": {},
   "outputs": [],
   "source": [
    "fur_elise_df = pd.DataFrame(fur_elise_data_dict)\n",
    "y_predict = rfc.predict(fur_elise_df[input_variables])"
   ]
  },
  {
   "cell_type": "code",
   "execution_count": 22,
   "metadata": {},
   "outputs": [
    {
     "name": "stdout",
     "output_type": "stream",
     "text": [
      "[[7541    4]\n",
      " [   0    0]]\n",
      "              precision    recall  f1-score   support\n",
      "\n",
      "         pia      1.000     0.999     1.000      7545\n",
      "         vio      0.000     0.000     0.000         0\n",
      "\n",
      "   micro avg      0.999     0.999     0.999      7545\n",
      "   macro avg      0.500     0.500     0.500      7545\n",
      "weighted avg      1.000     0.999     1.000      7545\n",
      "\n"
     ]
    },
    {
     "name": "stderr",
     "output_type": "stream",
     "text": [
      "/home/felipe/anaconda3/lib/python3.7/site-packages/sklearn/metrics/classification.py:1145: UndefinedMetricWarning: Recall and F-score are ill-defined and being set to 0.0 in labels with no true samples.\n",
      "  'recall', 'true', average, warn_for)\n"
     ]
    }
   ],
   "source": [
    "print(metrics.confusion_matrix(fur_elise_df[output_variable],le.inverse_transform(y_predict)))\n",
    "print(metrics.classification_report(fur_elise_df[output_variable],le.inverse_transform(y_predict),digits=3))"
   ]
  },
  {
   "cell_type": "code",
   "execution_count": 23,
   "metadata": {},
   "outputs": [
    {
     "data": {
      "text/plain": [
       "array([0, 0, 0, ..., 0, 0, 0])"
      ]
     },
     "execution_count": 23,
     "metadata": {},
     "output_type": "execute_result"
    }
   ],
   "source": [
    "y_predict"
   ]
  },
  {
   "cell_type": "code",
   "execution_count": 24,
   "metadata": {},
   "outputs": [
    {
     "name": "stdout",
     "output_type": "stream",
     "text": [
      "(1, 130)\n"
     ]
    }
   ],
   "source": [
    "(sig,rate) = ld_wav(directoryName +\"/\"+'pia'+\"/\" +'001__[pia][nod][cla]1389__1.wav')\n",
    "feat = ft_extraction.rms(y=sig)\n",
    "print(feat.shape)"
   ]
  }
 ],
 "metadata": {
  "kernelspec": {
   "display_name": "Python 3",
   "language": "python",
   "name": "python3"
  },
  "language_info": {
   "codemirror_mode": {
    "name": "ipython",
    "version": 3
   },
   "file_extension": ".py",
   "mimetype": "text/x-python",
   "name": "python",
   "nbconvert_exporter": "python",
   "pygments_lexer": "ipython3",
   "version": "3.7.3"
  }
 },
 "nbformat": 4,
 "nbformat_minor": 2
}
